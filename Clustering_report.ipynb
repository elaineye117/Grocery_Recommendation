{
 "cells": [
  {
   "cell_type": "markdown",
   "metadata": {},
   "source": [
    "# Grocery Cluster"
   ]
  },
  {
   "cell_type": "markdown",
   "metadata": {},
   "source": [
    "Company XYZ is an online grocery store. In the current version of the website, they have manually grouped the items into a few categories based on their experience.\n",
    "\n",
    "However, they now have a lot of data about user purchase history. Therefore, they would like to put the data into use! This is what they asked you to do:\n",
    "\n",
    "The company founder wants to meet with some of the best customers to go through a focus group with them. You are asked to send the ID of the following customers to the founder:\n",
    "\n",
    "1) The customer who bought the most items overall in her lifetime.\n",
    "\n",
    "2) For each item, the customer who bought that product the most.\n",
    "\n",
    "3) Cluster items based on user co-purchase history.\n",
    "\n",
    "That is, create clusters of products that have the highest probability of being bought together.\n",
    "\n",
    "The goal of this is to replace the old/manually created categories with these new ones. Each item can belong to just one cluster.\n",
    "\n",
    "Let's start with the analysis now:"
   ]
  },
  {
   "cell_type": "markdown",
   "metadata": {},
   "source": [
    "# 1.0 Import Libraries"
   ]
  },
  {
   "cell_type": "code",
   "execution_count": 37,
   "metadata": {},
   "outputs": [],
   "source": [
    "import numpy as np\n",
    "import pandas as pd\n",
    "import seaborn as sns\n",
    "import matplotlib.pyplot as plt\n",
    "import seaborn as sns\n",
    "from ast import literal_eval\n",
    "from sklearn.metrics.pairwise import cosine_similarity\n",
    "from sklearn.preprocessing import normalize\n",
    "from sklearn.decomposition import PCA\n",
    "from sklearn.cluster import KMeans\n",
    "from sklearn.metrics import silhouette_score\n",
    "import re\n",
    "from collections import Counter\n",
    "import itertools\n",
    "from scipy.cluster.hierarchy import dendrogram\n",
    "from sklearn.cluster import AgglomerativeClustering\n",
    "%matplotlib inline"
   ]
  },
  {
   "cell_type": "markdown",
   "metadata": {},
   "source": [
    "# 2.0 Load Data & Data Exploratory"
   ]
  },
  {
   "cell_type": "code",
   "execution_count": 2,
   "metadata": {
    "scrolled": false
   },
   "outputs": [
    {
     "data": {
      "text/html": [
       "<div>\n",
       "<style scoped>\n",
       "    .dataframe tbody tr th:only-of-type {\n",
       "        vertical-align: middle;\n",
       "    }\n",
       "\n",
       "    .dataframe tbody tr th {\n",
       "        vertical-align: top;\n",
       "    }\n",
       "\n",
       "    .dataframe thead th {\n",
       "        text-align: right;\n",
       "    }\n",
       "</style>\n",
       "<table border=\"1\" class=\"dataframe\">\n",
       "  <thead>\n",
       "    <tr style=\"text-align: right;\">\n",
       "      <th></th>\n",
       "      <th>Item_name</th>\n",
       "      <th>Item_id</th>\n",
       "    </tr>\n",
       "  </thead>\n",
       "  <tbody>\n",
       "    <tr>\n",
       "      <th>0</th>\n",
       "      <td>coffee</td>\n",
       "      <td>43</td>\n",
       "    </tr>\n",
       "    <tr>\n",
       "      <th>1</th>\n",
       "      <td>tea</td>\n",
       "      <td>23</td>\n",
       "    </tr>\n",
       "    <tr>\n",
       "      <th>2</th>\n",
       "      <td>juice</td>\n",
       "      <td>38</td>\n",
       "    </tr>\n",
       "    <tr>\n",
       "      <th>3</th>\n",
       "      <td>soda</td>\n",
       "      <td>9</td>\n",
       "    </tr>\n",
       "    <tr>\n",
       "      <th>4</th>\n",
       "      <td>sandwich loaves</td>\n",
       "      <td>39</td>\n",
       "    </tr>\n",
       "  </tbody>\n",
       "</table>\n",
       "</div>"
      ],
      "text/plain": [
       "         Item_name  Item_id\n",
       "0           coffee       43\n",
       "1              tea       23\n",
       "2            juice       38\n",
       "3             soda        9\n",
       "4  sandwich loaves       39"
      ]
     },
     "execution_count": 2,
     "metadata": {},
     "output_type": "execute_result"
    }
   ],
   "source": [
    "item = pd.read_csv('item_to_id.csv')\n",
    "item.head()"
   ]
  },
  {
   "cell_type": "code",
   "execution_count": 3,
   "metadata": {},
   "outputs": [],
   "source": [
    "item['Item_name'].replace('dishwashing\\xa0', 'dishwashing', inplace=True)"
   ]
  },
  {
   "cell_type": "code",
   "execution_count": 4,
   "metadata": {},
   "outputs": [
    {
     "data": {
      "text/html": [
       "<div>\n",
       "<style scoped>\n",
       "    .dataframe tbody tr th:only-of-type {\n",
       "        vertical-align: middle;\n",
       "    }\n",
       "\n",
       "    .dataframe tbody tr th {\n",
       "        vertical-align: top;\n",
       "    }\n",
       "\n",
       "    .dataframe thead th {\n",
       "        text-align: right;\n",
       "    }\n",
       "</style>\n",
       "<table border=\"1\" class=\"dataframe\">\n",
       "  <thead>\n",
       "    <tr style=\"text-align: right;\">\n",
       "      <th></th>\n",
       "      <th>user_id</th>\n",
       "      <th>id</th>\n",
       "    </tr>\n",
       "  </thead>\n",
       "  <tbody>\n",
       "    <tr>\n",
       "      <th>0</th>\n",
       "      <td>222087</td>\n",
       "      <td>27,26</td>\n",
       "    </tr>\n",
       "    <tr>\n",
       "      <th>1</th>\n",
       "      <td>1343649</td>\n",
       "      <td>6,47,17</td>\n",
       "    </tr>\n",
       "    <tr>\n",
       "      <th>2</th>\n",
       "      <td>404134</td>\n",
       "      <td>18,12,23,22,27,43,38,20,35,1</td>\n",
       "    </tr>\n",
       "    <tr>\n",
       "      <th>3</th>\n",
       "      <td>1110200</td>\n",
       "      <td>9,23,2,20,26,47,37</td>\n",
       "    </tr>\n",
       "    <tr>\n",
       "      <th>4</th>\n",
       "      <td>224107</td>\n",
       "      <td>31,18,5,13,1,21,48,16,26,2,44,32,20,37,42,35,4...</td>\n",
       "    </tr>\n",
       "  </tbody>\n",
       "</table>\n",
       "</div>"
      ],
      "text/plain": [
       "   user_id                                                 id\n",
       "0   222087                                              27,26\n",
       "1  1343649                                            6,47,17\n",
       "2   404134                       18,12,23,22,27,43,38,20,35,1\n",
       "3  1110200                                 9,23,2,20,26,47,37\n",
       "4   224107  31,18,5,13,1,21,48,16,26,2,44,32,20,37,42,35,4..."
      ]
     },
     "execution_count": 4,
     "metadata": {},
     "output_type": "execute_result"
    }
   ],
   "source": [
    "pur = pd.read_csv('purchase_history.csv')\n",
    "pur.head()"
   ]
  },
  {
   "cell_type": "code",
   "execution_count": 5,
   "metadata": {
    "scrolled": true
   },
   "outputs": [
    {
     "name": "stdout",
     "output_type": "stream",
     "text": [
      "Unique users: 24885\n",
      "Total number of transaction in purchase history: 39474\n"
     ]
    }
   ],
   "source": [
    "print(\"Unique users:\", len(pur['user_id'].unique()))\n",
    "print(\"Total number of transaction in purchase history:\", len(pur['id']))"
   ]
  },
  {
   "cell_type": "markdown",
   "metadata": {},
   "source": [
    "# 3.0 Data Preperation"
   ]
  },
  {
   "cell_type": "markdown",
   "metadata": {},
   "source": [
    "## 3.1 Create item dictionary"
   ]
  },
  {
   "cell_type": "code",
   "execution_count": 6,
   "metadata": {},
   "outputs": [],
   "source": [
    "item_dict = item.set_index('Item_id').to_dict()['Item_name']"
   ]
  },
  {
   "cell_type": "code",
   "execution_count": 7,
   "metadata": {},
   "outputs": [
    {
     "name": "stdout",
     "output_type": "stream",
     "text": [
      "dict_values(['coffee', 'tea', 'juice', 'soda', 'sandwich loaves', 'dinner rolls', 'tortillas', 'bagels', 'canned vegetables', 'spaghetti sauce', 'ketchup', 'cheeses', 'eggs', 'milk', 'yogurt', 'butter', 'cereals', 'flour', 'sugar', 'pasta', 'waffles', 'frozen vegetables', 'ice cream', 'poultry', 'beef', 'pork', 'bananas', 'berries', 'cherries', 'grapefruit', 'apples', 'broccoli', 'carrots', 'cauliflower', 'cucumbers', 'lettuce', 'laundry detergent', 'dishwashing', 'paper towels', 'toilet paper', 'aluminum foil', 'sandwich bags', 'shampoo', 'soap', 'hand soap', 'shaving cream', 'baby items', 'pet items'])\n"
     ]
    }
   ],
   "source": [
    "print(item_dict.values())"
   ]
  },
  {
   "cell_type": "code",
   "execution_count": 8,
   "metadata": {},
   "outputs": [
    {
     "name": "stdout",
     "output_type": "stream",
     "text": [
      "{43: 'coffee', 23: 'tea', 38: 'juice', 9: 'soda', 39: 'sandwich loaves', 37: 'dinner rolls', 34: 'tortillas', 13: 'bagels', 28: 'canned vegetables', 26: 'spaghetti sauce', 41: 'ketchup', 21: 'cheeses', 14: 'eggs', 16: 'milk', 48: 'yogurt', 8: 'butter', 11: 'cereals', 30: 'flour', 1: 'sugar', 31: 'pasta', 5: 'waffles', 22: 'frozen vegetables', 36: 'ice cream', 6: 'poultry', 17: 'beef', 47: 'pork', 46: 'bananas', 40: 'berries', 25: 'cherries', 20: 'grapefruit', 32: 'apples', 44: 'broccoli', 10: 'carrots', 45: 'cauliflower', 42: 'cucumbers', 2: 'lettuce', 18: 'laundry detergent', 27: 'dishwashing', 24: 'paper towels', 33: 'toilet paper', 15: 'aluminum foil', 7: 'sandwich bags', 12: 'shampoo', 35: 'soap', 29: 'hand soap', 19: 'shaving cream', 4: 'baby items', 3: 'pet items'}\n"
     ]
    }
   ],
   "source": [
    "print(item_dict)"
   ]
  },
  {
   "cell_type": "markdown",
   "metadata": {},
   "source": [
    "## 3.2 Split item id column with \",\""
   ]
  },
  {
   "cell_type": "code",
   "execution_count": 9,
   "metadata": {},
   "outputs": [],
   "source": [
    "item_arr = []\n",
    "for i in range(len(pur)):\n",
    "    item_arr.append(pur['id'].loc[i].split(','))\n",
    "# item_arr"
   ]
  },
  {
   "cell_type": "markdown",
   "metadata": {},
   "source": [
    "## 3.3 Map shopping-cart item_ids to item_names"
   ]
  },
  {
   "cell_type": "code",
   "execution_count": 10,
   "metadata": {},
   "outputs": [],
   "source": [
    "final_arr =[]\n",
    "for i in range(len(item_arr)):\n",
    "    temp_arr = []\n",
    "    temp_arr = item_arr[i]\n",
    "    for i in range(len(temp_arr)):\n",
    "        temp_arr[i]  = item_dict[int(temp_arr[i])]\n",
    "    final_arr.append(temp_arr)"
   ]
  },
  {
   "cell_type": "code",
   "execution_count": 11,
   "metadata": {},
   "outputs": [],
   "source": [
    "purchase_user_arr = pur['user_id']"
   ]
  },
  {
   "cell_type": "markdown",
   "metadata": {},
   "source": [
    "## 3.4 Create dataframe of user_id and purchase item "
   ]
  },
  {
   "cell_type": "code",
   "execution_count": 12,
   "metadata": {},
   "outputs": [],
   "source": [
    "user_to_item = []\n",
    "for i in range(len(final_arr)):\n",
    "    temp_arr = []\n",
    "    temp_arr = final_arr[i]\n",
    "    for j in range(len(temp_arr)):\n",
    "        user_to_item.append([purchase_user_arr[i], temp_arr[j]])"
   ]
  },
  {
   "cell_type": "code",
   "execution_count": 13,
   "metadata": {},
   "outputs": [
    {
     "data": {
      "text/html": [
       "<div>\n",
       "<style scoped>\n",
       "    .dataframe tbody tr th:only-of-type {\n",
       "        vertical-align: middle;\n",
       "    }\n",
       "\n",
       "    .dataframe tbody tr th {\n",
       "        vertical-align: top;\n",
       "    }\n",
       "\n",
       "    .dataframe thead th {\n",
       "        text-align: right;\n",
       "    }\n",
       "</style>\n",
       "<table border=\"1\" class=\"dataframe\">\n",
       "  <thead>\n",
       "    <tr style=\"text-align: right;\">\n",
       "      <th></th>\n",
       "      <th>user_id</th>\n",
       "      <th>item_name</th>\n",
       "    </tr>\n",
       "  </thead>\n",
       "  <tbody>\n",
       "    <tr>\n",
       "      <th>0</th>\n",
       "      <td>222087</td>\n",
       "      <td>dishwashing</td>\n",
       "    </tr>\n",
       "    <tr>\n",
       "      <th>1</th>\n",
       "      <td>222087</td>\n",
       "      <td>spaghetti sauce</td>\n",
       "    </tr>\n",
       "    <tr>\n",
       "      <th>2</th>\n",
       "      <td>1343649</td>\n",
       "      <td>poultry</td>\n",
       "    </tr>\n",
       "    <tr>\n",
       "      <th>3</th>\n",
       "      <td>1343649</td>\n",
       "      <td>pork</td>\n",
       "    </tr>\n",
       "    <tr>\n",
       "      <th>4</th>\n",
       "      <td>1343649</td>\n",
       "      <td>beef</td>\n",
       "    </tr>\n",
       "  </tbody>\n",
       "</table>\n",
       "</div>"
      ],
      "text/plain": [
       "   user_id        item_name\n",
       "0   222087      dishwashing\n",
       "1   222087  spaghetti sauce\n",
       "2  1343649          poultry\n",
       "3  1343649             pork\n",
       "4  1343649             beef"
      ]
     },
     "execution_count": 13,
     "metadata": {},
     "output_type": "execute_result"
    }
   ],
   "source": [
    "user_item_df = pd.DataFrame(user_to_item, columns=['user_id', 'item_name'])\n",
    "user_item_df.head()"
   ]
  },
  {
   "cell_type": "markdown",
   "metadata": {},
   "source": [
    "## 3.5 Create pivot_table for finding correlation between items"
   ]
  },
  {
   "cell_type": "code",
   "execution_count": 14,
   "metadata": {},
   "outputs": [
    {
     "data": {
      "text/html": [
       "<div>\n",
       "<style scoped>\n",
       "    .dataframe tbody tr th:only-of-type {\n",
       "        vertical-align: middle;\n",
       "    }\n",
       "\n",
       "    .dataframe tbody tr th {\n",
       "        vertical-align: top;\n",
       "    }\n",
       "\n",
       "    .dataframe thead th {\n",
       "        text-align: right;\n",
       "    }\n",
       "</style>\n",
       "<table border=\"1\" class=\"dataframe\">\n",
       "  <thead>\n",
       "    <tr style=\"text-align: right;\">\n",
       "      <th></th>\n",
       "      <th>user_id</th>\n",
       "      <th>item_name</th>\n",
       "      <th>bought</th>\n",
       "    </tr>\n",
       "  </thead>\n",
       "  <tbody>\n",
       "    <tr>\n",
       "      <th>0</th>\n",
       "      <td>222087</td>\n",
       "      <td>dishwashing</td>\n",
       "      <td>1</td>\n",
       "    </tr>\n",
       "    <tr>\n",
       "      <th>1</th>\n",
       "      <td>222087</td>\n",
       "      <td>spaghetti sauce</td>\n",
       "      <td>1</td>\n",
       "    </tr>\n",
       "    <tr>\n",
       "      <th>2</th>\n",
       "      <td>1343649</td>\n",
       "      <td>poultry</td>\n",
       "      <td>1</td>\n",
       "    </tr>\n",
       "  </tbody>\n",
       "</table>\n",
       "</div>"
      ],
      "text/plain": [
       "   user_id        item_name  bought\n",
       "0   222087      dishwashing       1\n",
       "1   222087  spaghetti sauce       1\n",
       "2  1343649          poultry       1"
      ]
     },
     "execution_count": 14,
     "metadata": {},
     "output_type": "execute_result"
    }
   ],
   "source": [
    "user_item_df['bought']=1\n",
    "user_item_df.head(3)"
   ]
  },
  {
   "cell_type": "code",
   "execution_count": 15,
   "metadata": {},
   "outputs": [
    {
     "data": {
      "text/html": [
       "<div>\n",
       "<style scoped>\n",
       "    .dataframe tbody tr th:only-of-type {\n",
       "        vertical-align: middle;\n",
       "    }\n",
       "\n",
       "    .dataframe tbody tr th {\n",
       "        vertical-align: top;\n",
       "    }\n",
       "\n",
       "    .dataframe thead th {\n",
       "        text-align: right;\n",
       "    }\n",
       "</style>\n",
       "<table border=\"1\" class=\"dataframe\">\n",
       "  <thead>\n",
       "    <tr style=\"text-align: right;\">\n",
       "      <th>item_name</th>\n",
       "      <th>aluminum foil</th>\n",
       "      <th>apples</th>\n",
       "      <th>baby items</th>\n",
       "      <th>bagels</th>\n",
       "      <th>bananas</th>\n",
       "      <th>beef</th>\n",
       "      <th>berries</th>\n",
       "      <th>broccoli</th>\n",
       "      <th>butter</th>\n",
       "      <th>canned vegetables</th>\n",
       "      <th>...</th>\n",
       "      <th>shaving cream</th>\n",
       "      <th>soap</th>\n",
       "      <th>soda</th>\n",
       "      <th>spaghetti sauce</th>\n",
       "      <th>sugar</th>\n",
       "      <th>tea</th>\n",
       "      <th>toilet paper</th>\n",
       "      <th>tortillas</th>\n",
       "      <th>waffles</th>\n",
       "      <th>yogurt</th>\n",
       "    </tr>\n",
       "    <tr>\n",
       "      <th>user_id</th>\n",
       "      <th></th>\n",
       "      <th></th>\n",
       "      <th></th>\n",
       "      <th></th>\n",
       "      <th></th>\n",
       "      <th></th>\n",
       "      <th></th>\n",
       "      <th></th>\n",
       "      <th></th>\n",
       "      <th></th>\n",
       "      <th></th>\n",
       "      <th></th>\n",
       "      <th></th>\n",
       "      <th></th>\n",
       "      <th></th>\n",
       "      <th></th>\n",
       "      <th></th>\n",
       "      <th></th>\n",
       "      <th></th>\n",
       "      <th></th>\n",
       "      <th></th>\n",
       "    </tr>\n",
       "  </thead>\n",
       "  <tbody>\n",
       "    <tr>\n",
       "      <th>47</th>\n",
       "      <td>1.0</td>\n",
       "      <td>NaN</td>\n",
       "      <td>1.0</td>\n",
       "      <td>1.0</td>\n",
       "      <td>1.0</td>\n",
       "      <td>NaN</td>\n",
       "      <td>NaN</td>\n",
       "      <td>1.0</td>\n",
       "      <td>NaN</td>\n",
       "      <td>1.0</td>\n",
       "      <td>...</td>\n",
       "      <td>NaN</td>\n",
       "      <td>NaN</td>\n",
       "      <td>NaN</td>\n",
       "      <td>NaN</td>\n",
       "      <td>NaN</td>\n",
       "      <td>1.0</td>\n",
       "      <td>NaN</td>\n",
       "      <td>NaN</td>\n",
       "      <td>NaN</td>\n",
       "      <td>NaN</td>\n",
       "    </tr>\n",
       "    <tr>\n",
       "      <th>68</th>\n",
       "      <td>NaN</td>\n",
       "      <td>NaN</td>\n",
       "      <td>NaN</td>\n",
       "      <td>NaN</td>\n",
       "      <td>NaN</td>\n",
       "      <td>1.0</td>\n",
       "      <td>NaN</td>\n",
       "      <td>NaN</td>\n",
       "      <td>NaN</td>\n",
       "      <td>NaN</td>\n",
       "      <td>...</td>\n",
       "      <td>1.0</td>\n",
       "      <td>NaN</td>\n",
       "      <td>NaN</td>\n",
       "      <td>NaN</td>\n",
       "      <td>NaN</td>\n",
       "      <td>1.0</td>\n",
       "      <td>NaN</td>\n",
       "      <td>NaN</td>\n",
       "      <td>NaN</td>\n",
       "      <td>NaN</td>\n",
       "    </tr>\n",
       "    <tr>\n",
       "      <th>113</th>\n",
       "      <td>1.0</td>\n",
       "      <td>1.0</td>\n",
       "      <td>NaN</td>\n",
       "      <td>NaN</td>\n",
       "      <td>1.0</td>\n",
       "      <td>NaN</td>\n",
       "      <td>NaN</td>\n",
       "      <td>NaN</td>\n",
       "      <td>NaN</td>\n",
       "      <td>NaN</td>\n",
       "      <td>...</td>\n",
       "      <td>NaN</td>\n",
       "      <td>NaN</td>\n",
       "      <td>1.0</td>\n",
       "      <td>NaN</td>\n",
       "      <td>NaN</td>\n",
       "      <td>NaN</td>\n",
       "      <td>1.0</td>\n",
       "      <td>NaN</td>\n",
       "      <td>NaN</td>\n",
       "      <td>NaN</td>\n",
       "    </tr>\n",
       "  </tbody>\n",
       "</table>\n",
       "<p>3 rows × 48 columns</p>\n",
       "</div>"
      ],
      "text/plain": [
       "item_name  aluminum foil  apples  baby items  bagels  bananas  beef  berries  \\\n",
       "user_id                                                                        \n",
       "47                   1.0     NaN         1.0     1.0      1.0   NaN      NaN   \n",
       "68                   NaN     NaN         NaN     NaN      NaN   1.0      NaN   \n",
       "113                  1.0     1.0         NaN     NaN      1.0   NaN      NaN   \n",
       "\n",
       "item_name  broccoli  butter  canned vegetables  ...  shaving cream  soap  \\\n",
       "user_id                                         ...                        \n",
       "47              1.0     NaN                1.0  ...            NaN   NaN   \n",
       "68              NaN     NaN                NaN  ...            1.0   NaN   \n",
       "113             NaN     NaN                NaN  ...            NaN   NaN   \n",
       "\n",
       "item_name  soda  spaghetti sauce  sugar  tea  toilet paper  tortillas  \\\n",
       "user_id                                                                 \n",
       "47          NaN              NaN    NaN  1.0           NaN        NaN   \n",
       "68          NaN              NaN    NaN  1.0           NaN        NaN   \n",
       "113         1.0              NaN    NaN  NaN           1.0        NaN   \n",
       "\n",
       "item_name  waffles  yogurt  \n",
       "user_id                     \n",
       "47             NaN     NaN  \n",
       "68             NaN     NaN  \n",
       "113            NaN     NaN  \n",
       "\n",
       "[3 rows x 48 columns]"
      ]
     },
     "execution_count": 15,
     "metadata": {},
     "output_type": "execute_result"
    }
   ],
   "source": [
    "user_item_pivot = user_item_df.pivot_table(index=['user_id'], columns=['item_name'], values='bought')\n",
    "user_item_pivot.head(3)"
   ]
  },
  {
   "cell_type": "code",
   "execution_count": 16,
   "metadata": {},
   "outputs": [],
   "source": [
    "user_item_pivot.fillna(0, inplace=True)"
   ]
  },
  {
   "cell_type": "code",
   "execution_count": 17,
   "metadata": {},
   "outputs": [],
   "source": [
    "user_item_pivot.to_csv('user_item_pivot.csv')"
   ]
  },
  {
   "cell_type": "code",
   "execution_count": 18,
   "metadata": {},
   "outputs": [],
   "source": [
    "user_item = pd.read_csv('user_item_pivot.csv')"
   ]
  },
  {
   "cell_type": "code",
   "execution_count": 19,
   "metadata": {},
   "outputs": [
    {
     "data": {
      "text/html": [
       "<div>\n",
       "<style scoped>\n",
       "    .dataframe tbody tr th:only-of-type {\n",
       "        vertical-align: middle;\n",
       "    }\n",
       "\n",
       "    .dataframe tbody tr th {\n",
       "        vertical-align: top;\n",
       "    }\n",
       "\n",
       "    .dataframe thead th {\n",
       "        text-align: right;\n",
       "    }\n",
       "</style>\n",
       "<table border=\"1\" class=\"dataframe\">\n",
       "  <thead>\n",
       "    <tr style=\"text-align: right;\">\n",
       "      <th></th>\n",
       "      <th>aluminum foil</th>\n",
       "      <th>apples</th>\n",
       "      <th>baby items</th>\n",
       "      <th>bagels</th>\n",
       "      <th>bananas</th>\n",
       "      <th>beef</th>\n",
       "      <th>berries</th>\n",
       "      <th>broccoli</th>\n",
       "      <th>butter</th>\n",
       "      <th>canned vegetables</th>\n",
       "      <th>...</th>\n",
       "      <th>shaving cream</th>\n",
       "      <th>soap</th>\n",
       "      <th>soda</th>\n",
       "      <th>spaghetti sauce</th>\n",
       "      <th>sugar</th>\n",
       "      <th>tea</th>\n",
       "      <th>toilet paper</th>\n",
       "      <th>tortillas</th>\n",
       "      <th>waffles</th>\n",
       "      <th>yogurt</th>\n",
       "    </tr>\n",
       "  </thead>\n",
       "  <tbody>\n",
       "    <tr>\n",
       "      <th>0</th>\n",
       "      <td>1.0</td>\n",
       "      <td>0.0</td>\n",
       "      <td>1.0</td>\n",
       "      <td>1.0</td>\n",
       "      <td>1.0</td>\n",
       "      <td>0.0</td>\n",
       "      <td>0.0</td>\n",
       "      <td>1.0</td>\n",
       "      <td>0.0</td>\n",
       "      <td>1.0</td>\n",
       "      <td>...</td>\n",
       "      <td>0.0</td>\n",
       "      <td>0.0</td>\n",
       "      <td>0.0</td>\n",
       "      <td>0.0</td>\n",
       "      <td>0.0</td>\n",
       "      <td>1.0</td>\n",
       "      <td>0.0</td>\n",
       "      <td>0.0</td>\n",
       "      <td>0.0</td>\n",
       "      <td>0.0</td>\n",
       "    </tr>\n",
       "    <tr>\n",
       "      <th>1</th>\n",
       "      <td>0.0</td>\n",
       "      <td>0.0</td>\n",
       "      <td>0.0</td>\n",
       "      <td>0.0</td>\n",
       "      <td>0.0</td>\n",
       "      <td>1.0</td>\n",
       "      <td>0.0</td>\n",
       "      <td>0.0</td>\n",
       "      <td>0.0</td>\n",
       "      <td>0.0</td>\n",
       "      <td>...</td>\n",
       "      <td>1.0</td>\n",
       "      <td>0.0</td>\n",
       "      <td>0.0</td>\n",
       "      <td>0.0</td>\n",
       "      <td>0.0</td>\n",
       "      <td>1.0</td>\n",
       "      <td>0.0</td>\n",
       "      <td>0.0</td>\n",
       "      <td>0.0</td>\n",
       "      <td>0.0</td>\n",
       "    </tr>\n",
       "    <tr>\n",
       "      <th>2</th>\n",
       "      <td>1.0</td>\n",
       "      <td>1.0</td>\n",
       "      <td>0.0</td>\n",
       "      <td>0.0</td>\n",
       "      <td>1.0</td>\n",
       "      <td>0.0</td>\n",
       "      <td>0.0</td>\n",
       "      <td>0.0</td>\n",
       "      <td>0.0</td>\n",
       "      <td>0.0</td>\n",
       "      <td>...</td>\n",
       "      <td>0.0</td>\n",
       "      <td>0.0</td>\n",
       "      <td>1.0</td>\n",
       "      <td>0.0</td>\n",
       "      <td>0.0</td>\n",
       "      <td>0.0</td>\n",
       "      <td>1.0</td>\n",
       "      <td>0.0</td>\n",
       "      <td>0.0</td>\n",
       "      <td>0.0</td>\n",
       "    </tr>\n",
       "    <tr>\n",
       "      <th>3</th>\n",
       "      <td>0.0</td>\n",
       "      <td>0.0</td>\n",
       "      <td>1.0</td>\n",
       "      <td>0.0</td>\n",
       "      <td>0.0</td>\n",
       "      <td>0.0</td>\n",
       "      <td>0.0</td>\n",
       "      <td>0.0</td>\n",
       "      <td>0.0</td>\n",
       "      <td>0.0</td>\n",
       "      <td>...</td>\n",
       "      <td>0.0</td>\n",
       "      <td>0.0</td>\n",
       "      <td>0.0</td>\n",
       "      <td>0.0</td>\n",
       "      <td>0.0</td>\n",
       "      <td>0.0</td>\n",
       "      <td>0.0</td>\n",
       "      <td>0.0</td>\n",
       "      <td>0.0</td>\n",
       "      <td>0.0</td>\n",
       "    </tr>\n",
       "    <tr>\n",
       "      <th>4</th>\n",
       "      <td>0.0</td>\n",
       "      <td>1.0</td>\n",
       "      <td>0.0</td>\n",
       "      <td>0.0</td>\n",
       "      <td>0.0</td>\n",
       "      <td>1.0</td>\n",
       "      <td>0.0</td>\n",
       "      <td>0.0</td>\n",
       "      <td>0.0</td>\n",
       "      <td>0.0</td>\n",
       "      <td>...</td>\n",
       "      <td>0.0</td>\n",
       "      <td>1.0</td>\n",
       "      <td>0.0</td>\n",
       "      <td>0.0</td>\n",
       "      <td>1.0</td>\n",
       "      <td>0.0</td>\n",
       "      <td>0.0</td>\n",
       "      <td>0.0</td>\n",
       "      <td>0.0</td>\n",
       "      <td>0.0</td>\n",
       "    </tr>\n",
       "  </tbody>\n",
       "</table>\n",
       "<p>5 rows × 48 columns</p>\n",
       "</div>"
      ],
      "text/plain": [
       "   aluminum foil  apples  baby items  bagels  bananas  beef  berries  \\\n",
       "0            1.0     0.0         1.0     1.0      1.0   0.0      0.0   \n",
       "1            0.0     0.0         0.0     0.0      0.0   1.0      0.0   \n",
       "2            1.0     1.0         0.0     0.0      1.0   0.0      0.0   \n",
       "3            0.0     0.0         1.0     0.0      0.0   0.0      0.0   \n",
       "4            0.0     1.0         0.0     0.0      0.0   1.0      0.0   \n",
       "\n",
       "   broccoli  butter  canned vegetables  ...  shaving cream  soap  soda  \\\n",
       "0       1.0     0.0                1.0  ...            0.0   0.0   0.0   \n",
       "1       0.0     0.0                0.0  ...            1.0   0.0   0.0   \n",
       "2       0.0     0.0                0.0  ...            0.0   0.0   1.0   \n",
       "3       0.0     0.0                0.0  ...            0.0   0.0   0.0   \n",
       "4       0.0     0.0                0.0  ...            0.0   1.0   0.0   \n",
       "\n",
       "   spaghetti sauce  sugar  tea  toilet paper  tortillas  waffles  yogurt  \n",
       "0              0.0    0.0  1.0           0.0        0.0      0.0     0.0  \n",
       "1              0.0    0.0  1.0           0.0        0.0      0.0     0.0  \n",
       "2              0.0    0.0  0.0           1.0        0.0      0.0     0.0  \n",
       "3              0.0    0.0  0.0           0.0        0.0      0.0     0.0  \n",
       "4              0.0    1.0  0.0           0.0        0.0      0.0     0.0  \n",
       "\n",
       "[5 rows x 48 columns]"
      ]
     },
     "execution_count": 19,
     "metadata": {},
     "output_type": "execute_result"
    }
   ],
   "source": [
    "items = user_item.iloc[:, 1:49]\n",
    "items.head()"
   ]
  },
  {
   "cell_type": "markdown",
   "metadata": {},
   "source": [
    "## 3.6 Modify the table with correlation matrix"
   ]
  },
  {
   "cell_type": "code",
   "execution_count": 20,
   "metadata": {},
   "outputs": [
    {
     "data": {
      "text/html": [
       "<div>\n",
       "<style scoped>\n",
       "    .dataframe tbody tr th:only-of-type {\n",
       "        vertical-align: middle;\n",
       "    }\n",
       "\n",
       "    .dataframe tbody tr th {\n",
       "        vertical-align: top;\n",
       "    }\n",
       "\n",
       "    .dataframe thead th {\n",
       "        text-align: right;\n",
       "    }\n",
       "</style>\n",
       "<table border=\"1\" class=\"dataframe\">\n",
       "  <thead>\n",
       "    <tr style=\"text-align: right;\">\n",
       "      <th></th>\n",
       "      <th>aluminum foil</th>\n",
       "      <th>apples</th>\n",
       "      <th>baby items</th>\n",
       "      <th>bagels</th>\n",
       "      <th>bananas</th>\n",
       "      <th>beef</th>\n",
       "      <th>berries</th>\n",
       "      <th>broccoli</th>\n",
       "      <th>butter</th>\n",
       "      <th>canned vegetables</th>\n",
       "      <th>...</th>\n",
       "      <th>shaving cream</th>\n",
       "      <th>soap</th>\n",
       "      <th>soda</th>\n",
       "      <th>spaghetti sauce</th>\n",
       "      <th>sugar</th>\n",
       "      <th>tea</th>\n",
       "      <th>toilet paper</th>\n",
       "      <th>tortillas</th>\n",
       "      <th>waffles</th>\n",
       "      <th>yogurt</th>\n",
       "    </tr>\n",
       "  </thead>\n",
       "  <tbody>\n",
       "    <tr>\n",
       "      <th>aluminum foil</th>\n",
       "      <td>1.000000</td>\n",
       "      <td>0.061678</td>\n",
       "      <td>0.047728</td>\n",
       "      <td>0.064905</td>\n",
       "      <td>0.067114</td>\n",
       "      <td>0.071278</td>\n",
       "      <td>0.055401</td>\n",
       "      <td>0.072599</td>\n",
       "      <td>0.071912</td>\n",
       "      <td>0.065412</td>\n",
       "      <td>...</td>\n",
       "      <td>0.045270</td>\n",
       "      <td>0.036808</td>\n",
       "      <td>0.071673</td>\n",
       "      <td>0.059981</td>\n",
       "      <td>0.070864</td>\n",
       "      <td>0.062613</td>\n",
       "      <td>0.133057</td>\n",
       "      <td>0.070844</td>\n",
       "      <td>0.034712</td>\n",
       "      <td>0.048195</td>\n",
       "    </tr>\n",
       "    <tr>\n",
       "      <th>apples</th>\n",
       "      <td>0.061678</td>\n",
       "      <td>1.000000</td>\n",
       "      <td>0.062212</td>\n",
       "      <td>0.087139</td>\n",
       "      <td>0.225915</td>\n",
       "      <td>0.095325</td>\n",
       "      <td>0.223348</td>\n",
       "      <td>0.087706</td>\n",
       "      <td>0.084418</td>\n",
       "      <td>0.077379</td>\n",
       "      <td>...</td>\n",
       "      <td>0.070087</td>\n",
       "      <td>0.065698</td>\n",
       "      <td>0.089582</td>\n",
       "      <td>0.079165</td>\n",
       "      <td>0.102892</td>\n",
       "      <td>0.083509</td>\n",
       "      <td>0.070139</td>\n",
       "      <td>0.086649</td>\n",
       "      <td>0.055191</td>\n",
       "      <td>0.074820</td>\n",
       "    </tr>\n",
       "    <tr>\n",
       "      <th>baby items</th>\n",
       "      <td>0.047728</td>\n",
       "      <td>0.062212</td>\n",
       "      <td>1.000000</td>\n",
       "      <td>0.071940</td>\n",
       "      <td>0.074922</td>\n",
       "      <td>0.070992</td>\n",
       "      <td>0.076462</td>\n",
       "      <td>0.063789</td>\n",
       "      <td>0.064575</td>\n",
       "      <td>0.048423</td>\n",
       "      <td>...</td>\n",
       "      <td>0.050868</td>\n",
       "      <td>0.048610</td>\n",
       "      <td>0.058916</td>\n",
       "      <td>0.045073</td>\n",
       "      <td>0.118216</td>\n",
       "      <td>0.064678</td>\n",
       "      <td>0.058797</td>\n",
       "      <td>0.068229</td>\n",
       "      <td>0.053431</td>\n",
       "      <td>0.063001</td>\n",
       "    </tr>\n",
       "    <tr>\n",
       "      <th>bagels</th>\n",
       "      <td>0.064905</td>\n",
       "      <td>0.087139</td>\n",
       "      <td>0.071940</td>\n",
       "      <td>1.000000</td>\n",
       "      <td>0.077304</td>\n",
       "      <td>0.087987</td>\n",
       "      <td>0.093777</td>\n",
       "      <td>0.084959</td>\n",
       "      <td>0.092361</td>\n",
       "      <td>0.082148</td>\n",
       "      <td>...</td>\n",
       "      <td>0.075134</td>\n",
       "      <td>0.066404</td>\n",
       "      <td>0.091899</td>\n",
       "      <td>0.079857</td>\n",
       "      <td>0.097317</td>\n",
       "      <td>0.091047</td>\n",
       "      <td>0.060387</td>\n",
       "      <td>0.251497</td>\n",
       "      <td>0.051933</td>\n",
       "      <td>0.087520</td>\n",
       "    </tr>\n",
       "    <tr>\n",
       "      <th>bananas</th>\n",
       "      <td>0.067114</td>\n",
       "      <td>0.225915</td>\n",
       "      <td>0.074922</td>\n",
       "      <td>0.077304</td>\n",
       "      <td>1.000000</td>\n",
       "      <td>0.082479</td>\n",
       "      <td>0.219283</td>\n",
       "      <td>0.093150</td>\n",
       "      <td>0.076063</td>\n",
       "      <td>0.084400</td>\n",
       "      <td>...</td>\n",
       "      <td>0.069899</td>\n",
       "      <td>0.067265</td>\n",
       "      <td>0.092232</td>\n",
       "      <td>0.082774</td>\n",
       "      <td>0.102371</td>\n",
       "      <td>0.091121</td>\n",
       "      <td>0.072508</td>\n",
       "      <td>0.094638</td>\n",
       "      <td>0.065618</td>\n",
       "      <td>0.073154</td>\n",
       "    </tr>\n",
       "  </tbody>\n",
       "</table>\n",
       "<p>5 rows × 48 columns</p>\n",
       "</div>"
      ],
      "text/plain": [
       "               aluminum foil    apples  baby items    bagels   bananas  \\\n",
       "aluminum foil       1.000000  0.061678    0.047728  0.064905  0.067114   \n",
       "apples              0.061678  1.000000    0.062212  0.087139  0.225915   \n",
       "baby items          0.047728  0.062212    1.000000  0.071940  0.074922   \n",
       "bagels              0.064905  0.087139    0.071940  1.000000  0.077304   \n",
       "bananas             0.067114  0.225915    0.074922  0.077304  1.000000   \n",
       "\n",
       "                   beef   berries  broccoli    butter  canned vegetables  ...  \\\n",
       "aluminum foil  0.071278  0.055401  0.072599  0.071912           0.065412  ...   \n",
       "apples         0.095325  0.223348  0.087706  0.084418           0.077379  ...   \n",
       "baby items     0.070992  0.076462  0.063789  0.064575           0.048423  ...   \n",
       "bagels         0.087987  0.093777  0.084959  0.092361           0.082148  ...   \n",
       "bananas        0.082479  0.219283  0.093150  0.076063           0.084400  ...   \n",
       "\n",
       "               shaving cream      soap      soda  spaghetti sauce     sugar  \\\n",
       "aluminum foil       0.045270  0.036808  0.071673         0.059981  0.070864   \n",
       "apples              0.070087  0.065698  0.089582         0.079165  0.102892   \n",
       "baby items          0.050868  0.048610  0.058916         0.045073  0.118216   \n",
       "bagels              0.075134  0.066404  0.091899         0.079857  0.097317   \n",
       "bananas             0.069899  0.067265  0.092232         0.082774  0.102371   \n",
       "\n",
       "                    tea  toilet paper  tortillas   waffles    yogurt  \n",
       "aluminum foil  0.062613      0.133057   0.070844  0.034712  0.048195  \n",
       "apples         0.083509      0.070139   0.086649  0.055191  0.074820  \n",
       "baby items     0.064678      0.058797   0.068229  0.053431  0.063001  \n",
       "bagels         0.091047      0.060387   0.251497  0.051933  0.087520  \n",
       "bananas        0.091121      0.072508   0.094638  0.065618  0.073154  \n",
       "\n",
       "[5 rows x 48 columns]"
      ]
     },
     "execution_count": 20,
     "metadata": {},
     "output_type": "execute_result"
    }
   ],
   "source": [
    "item_corr = items.corr()\n",
    "item_corr.head()"
   ]
  },
  {
   "cell_type": "markdown",
   "metadata": {},
   "source": [
    "# 4.0 K-mean Clustering"
   ]
  },
  {
   "cell_type": "markdown",
   "metadata": {},
   "source": [
    "## 4.1 Determine the ideal number of clusters for a k-means clustering of grocery data"
   ]
  },
  {
   "cell_type": "code",
   "execution_count": 21,
   "metadata": {},
   "outputs": [
    {
     "data": {
      "text/plain": [
       "4.898979485566356"
      ]
     },
     "execution_count": 21,
     "metadata": {},
     "output_type": "execute_result"
    }
   ],
   "source": [
    "# rule of thoumb\n",
    "np.sqrt(len(item_corr)/2)"
   ]
  },
  {
   "cell_type": "code",
   "execution_count": 22,
   "metadata": {
    "scrolled": false
   },
   "outputs": [
    {
     "data": {
      "text/plain": [
       "(1, 15.65)"
      ]
     },
     "execution_count": 22,
     "metadata": {},
     "output_type": "execute_result"
    },
    {
     "data": {
      "image/png": "[encoded data removed]",
      "text/plain": [
       "<Figure size 432x288 with 1 Axes>"
      ]
     },
     "metadata": {
      "needs_background": "light"
     },
     "output_type": "display_data"
    }
   ],
   "source": [
    "# elbow\n",
    "from sklearn import metrics\n",
    "\n",
    "cost = []\n",
    "for k in range(2,16):\n",
    "    k_means = KMeans(init='k-means++', n_clusters=k, n_init=10)\n",
    "    k_means.fit(item_corr)\n",
    "    cost.append(k_means.inertia_)\n",
    "\n",
    "fig, ax = plt.subplots()\n",
    "plt.plot(range(2,16), cost, 'b*-')\n",
    "plt.xlim(1, plt.xlim()[1])"
   ]
  },
  {
   "cell_type": "code",
   "execution_count": 23,
   "metadata": {},
   "outputs": [
    {
     "data": {
      "text/plain": [
       "(1, 15.65)"
      ]
     },
     "execution_count": 23,
     "metadata": {},
     "output_type": "execute_result"
    },
    {
     "data": {
      "image/png": "[encoded data removed]",
      "text/plain": [
       "<Figure size 432x288 with 1 Axes>"
      ]
     },
     "metadata": {
      "needs_background": "light"
     },
     "output_type": "display_data"
    }
   ],
   "source": [
    "cost = []\n",
    "for k in range(2,16):\n",
    "    k_means = KMeans(init='k-means++', n_clusters=k, n_init=10)\n",
    "    k_means.fit(item_corr)\n",
    "    cost.append(metrics.silhouette_score(item_corr, k_means.labels_))\n",
    "\n",
    "# kIdx = np.argmax(cost)\n",
    "fig, ax = plt.subplots()\n",
    "plt.plot(range(2,16), cost, 'b*-')\n",
    "plt.xlim(1, plt.xlim()[1])"
   ]
  },
  {
   "cell_type": "code",
   "execution_count": 34,
   "metadata": {
    "scrolled": true
   },
   "outputs": [
    {
     "data": {
      "image/png": "[encoded data removed]",
      "text/plain": [
       "<Figure size 1152x576 with 8 Axes>"
      ]
     },
     "metadata": {
      "needs_background": "light"
     },
     "output_type": "display_data"
    }
   ],
   "source": [
    "pca = PCA(n_components=2).fit(item_corr)\n",
    "data2d = pca.transform(item_corr)\n",
    "\n",
    "plt.figure(figsize=(16, 8))\n",
    "scores, n_clusters, preds = [], [], []\n",
    "for i in range(2, 10):\n",
    "    kmean = KMeans(n_clusters = i).fit(item_corr)\n",
    "    scores.append(kmean.score(item_corr))\n",
    "    n_clusters.append(i)\n",
    "    pred = kmean.predict(item_corr)\n",
    "    preds.append(pred)\n",
    "    plt.subplot(2, 4, i - 1)\n",
    "    plt.title(f\"{i} clusters silhoute={np.round(silhouette_score(item_corr, pred), decimals=5)}\")\n",
    "    plt.scatter(data2d[:, 0], data2d[:, 1], c=pred, marker = '.')\n",
    "    \n",
    "    centroids = kmean.cluster_centers_\n",
    "    centroids2d = pca.transform(centroids)\n",
    "    plt.plot(centroids2d[:, 0], centroids2d[:, 1], 'b+', markersize=15)"
   ]
  },
  {
   "cell_type": "markdown",
   "metadata": {},
   "source": [
    "## This part is under construction..."
   ]
  },
  {
   "cell_type": "code",
   "execution_count": 25,
   "metadata": {},
   "outputs": [],
   "source": [
    "pca = PCA()\n",
    "# rotate by PCA, making it easier to be visualized later\n",
    "items_rotated = pca.fit_transform(item_corr)"
   ]
  },
  {
   "cell_type": "code",
   "execution_count": null,
   "metadata": {},
   "outputs": [],
   "source": [
    "#items rotated contains the same information as item_item_similarity just that the previous variables have been shifted using PCA components\n",
    "\n",
    "items_rotated = pd.DataFrame(items_rotated, index=user_item_pivot.index, columns=[\"pc{}\".format(index+1) for index in range(0,item_to_id.shape[0])])\n",
    "\n"
   ]
  },
  {
   "cell_type": "code",
   "execution_count": 27,
   "metadata": {},
   "outputs": [],
   "source": [
    "#function to plot clusters using pc1 and pc2 pca components on 2D\n",
    "\n",
    "def show_clusters(items_rotated,labels):\n",
    "   \n",
    "    #plot and print clustering result\n",
    "    fig = plt.figure(figsize=(15, 10))\n",
    "\n",
    "    #endless cycle iterator\n",
    "    colors =  itertools.cycle ([\"b\",\"g\",\"r\",\"c\",\"m\",\"y\",\"k\"])\n",
    "    print('Labels are :', end = ' ')\n",
    "    print(labels)\n",
    "    grps = items_rotated.groupby(labels)\n",
    "    i = 1\n",
    "    for label,grp in grps:\n",
    "      plt.scatter(grp.pc1,grp.pc2,c=next(colors),label = label)\n",
    "      print('Cluster:', end = ' ')\n",
    "      print(i)\n",
    "      i = i+1\n",
    "      print('\\n')\n",
    "      names = item_to_id.loc[grp.index,\"item_name\"]\n",
    "      for index, name in enumerate(names):\n",
    "        print(index+1,name)\n",
    "      print('\\n')  \n",
    "\n",
    "     #annotate\n",
    "    for itemid in items_rotated.index:\n",
    "      x = items_rotated.loc[itemid,\"pc1\"]\n",
    "      y = items_rotated.loc[itemid,\"pc2\"]\n",
    "      name = item_to_id.loc[itemid,\"item_name\"]\n",
    "      name = re.sub('\\W', ' ', name)\n",
    "      plt.text(x,y,name)\n",
    "      plt.tight_layout()\n",
    "\n",
    "      plt.legend(loc=\"best\")"
   ]
  },
  {
   "cell_type": "code",
   "execution_count": 28,
   "metadata": {},
   "outputs": [],
   "source": [
    "#function that takes in number of clusters and calls the plot function to plot the clusters\n",
    "\n",
    "def cluster(n_clusters,n_components=48):\n",
    "  \n",
    "    kmeans = KMeans(n_clusters=n_clusters)\n",
    "    kmeans.fit(items_rotated.values[:, :])\n",
    "   \n",
    "    # display results on a plot\n",
    "    show_clusters(items_rotated, kmeans.labels_)"
   ]
  },
  {
   "cell_type": "code",
   "execution_count": 29,
   "metadata": {},
   "outputs": [
    {
     "ename": "AttributeError",
     "evalue": "'numpy.ndarray' object has no attribute 'values'",
     "output_type": "error",
     "traceback": [
      "\u001b[0;31m---------------------------------------------------------------------------\u001b[0m",
      "\u001b[0;31mAttributeError\u001b[0m                            Traceback (most recent call last)",
      "\u001b[0;32m<ipython-input-29-2bac7e69676e>\u001b[0m in \u001b[0;36m<module>\u001b[0;34m\u001b[0m\n\u001b[0;32m----> 1\u001b[0;31m \u001b[0mcluster\u001b[0m\u001b[0;34m(\u001b[0m\u001b[0mn_clusters\u001b[0m\u001b[0;34m=\u001b[0m\u001b[0;36m10\u001b[0m\u001b[0;34m)\u001b[0m\u001b[0;34m\u001b[0m\u001b[0;34m\u001b[0m\u001b[0m\n\u001b[0m",
      "\u001b[0;32m<ipython-input-28-fd5fcdeb5735>\u001b[0m in \u001b[0;36mcluster\u001b[0;34m(n_clusters, n_components)\u001b[0m\n\u001b[1;32m      4\u001b[0m \u001b[0;34m\u001b[0m\u001b[0m\n\u001b[1;32m      5\u001b[0m     \u001b[0mkmeans\u001b[0m \u001b[0;34m=\u001b[0m \u001b[0mKMeans\u001b[0m\u001b[0;34m(\u001b[0m\u001b[0mn_clusters\u001b[0m\u001b[0;34m=\u001b[0m\u001b[0mn_clusters\u001b[0m\u001b[0;34m)\u001b[0m\u001b[0;34m\u001b[0m\u001b[0;34m\u001b[0m\u001b[0m\n\u001b[0;32m----> 6\u001b[0;31m     \u001b[0mkmeans\u001b[0m\u001b[0;34m.\u001b[0m\u001b[0mfit\u001b[0m\u001b[0;34m(\u001b[0m\u001b[0mitems_rotated\u001b[0m\u001b[0;34m.\u001b[0m\u001b[0mvalues\u001b[0m\u001b[0;34m[\u001b[0m\u001b[0;34m:\u001b[0m\u001b[0;34m,\u001b[0m \u001b[0;34m:\u001b[0m\u001b[0;34m]\u001b[0m\u001b[0;34m)\u001b[0m\u001b[0;34m\u001b[0m\u001b[0;34m\u001b[0m\u001b[0m\n\u001b[0m\u001b[1;32m      7\u001b[0m \u001b[0;34m\u001b[0m\u001b[0m\n\u001b[1;32m      8\u001b[0m     \u001b[0;31m# display results on a plot\u001b[0m\u001b[0;34m\u001b[0m\u001b[0;34m\u001b[0m\u001b[0;34m\u001b[0m\u001b[0m\n",
      "\u001b[0;31mAttributeError\u001b[0m: 'numpy.ndarray' object has no attribute 'values'"
     ]
    }
   ],
   "source": [
    "cluster(n_clusters=10)"
   ]
  },
  {
   "cell_type": "code",
   "execution_count": null,
   "metadata": {},
   "outputs": [],
   "source": []
  },
  {
   "cell_type": "markdown",
   "metadata": {},
   "source": [
    "# 5.0 Hierarchical Clustering"
   ]
  },
  {
   "cell_type": "code",
   "execution_count": 42,
   "metadata": {},
   "outputs": [
    {
     "data": {
      "text/html": [
       "<div>\n",
       "<style scoped>\n",
       "    .dataframe tbody tr th:only-of-type {\n",
       "        vertical-align: middle;\n",
       "    }\n",
       "\n",
       "    .dataframe tbody tr th {\n",
       "        vertical-align: top;\n",
       "    }\n",
       "\n",
       "    .dataframe thead th {\n",
       "        text-align: right;\n",
       "    }\n",
       "</style>\n",
       "<table border=\"1\" class=\"dataframe\">\n",
       "  <thead>\n",
       "    <tr style=\"text-align: right;\">\n",
       "      <th></th>\n",
       "      <th>aluminum foil</th>\n",
       "      <th>apples</th>\n",
       "      <th>baby items</th>\n",
       "      <th>bagels</th>\n",
       "      <th>bananas</th>\n",
       "      <th>beef</th>\n",
       "      <th>berries</th>\n",
       "      <th>broccoli</th>\n",
       "      <th>butter</th>\n",
       "      <th>canned vegetables</th>\n",
       "      <th>...</th>\n",
       "      <th>soap</th>\n",
       "      <th>soda</th>\n",
       "      <th>spaghetti sauce</th>\n",
       "      <th>sugar</th>\n",
       "      <th>tea</th>\n",
       "      <th>toilet paper</th>\n",
       "      <th>tortillas</th>\n",
       "      <th>waffles</th>\n",
       "      <th>yogurt</th>\n",
       "      <th>cluster</th>\n",
       "    </tr>\n",
       "  </thead>\n",
       "  <tbody>\n",
       "    <tr>\n",
       "      <th>aluminum foil</th>\n",
       "      <td>1.000000</td>\n",
       "      <td>0.061678</td>\n",
       "      <td>0.047728</td>\n",
       "      <td>0.064905</td>\n",
       "      <td>0.067114</td>\n",
       "      <td>0.071278</td>\n",
       "      <td>0.055401</td>\n",
       "      <td>0.072599</td>\n",
       "      <td>0.071912</td>\n",
       "      <td>0.065412</td>\n",
       "      <td>...</td>\n",
       "      <td>0.036808</td>\n",
       "      <td>0.071673</td>\n",
       "      <td>0.059981</td>\n",
       "      <td>0.070864</td>\n",
       "      <td>0.062613</td>\n",
       "      <td>0.133057</td>\n",
       "      <td>0.070844</td>\n",
       "      <td>0.034712</td>\n",
       "      <td>0.048195</td>\n",
       "      <td>0</td>\n",
       "    </tr>\n",
       "    <tr>\n",
       "      <th>apples</th>\n",
       "      <td>0.061678</td>\n",
       "      <td>1.000000</td>\n",
       "      <td>0.062212</td>\n",
       "      <td>0.087139</td>\n",
       "      <td>0.225915</td>\n",
       "      <td>0.095325</td>\n",
       "      <td>0.223348</td>\n",
       "      <td>0.087706</td>\n",
       "      <td>0.084418</td>\n",
       "      <td>0.077379</td>\n",
       "      <td>...</td>\n",
       "      <td>0.065698</td>\n",
       "      <td>0.089582</td>\n",
       "      <td>0.079165</td>\n",
       "      <td>0.102892</td>\n",
       "      <td>0.083509</td>\n",
       "      <td>0.070139</td>\n",
       "      <td>0.086649</td>\n",
       "      <td>0.055191</td>\n",
       "      <td>0.074820</td>\n",
       "      <td>1</td>\n",
       "    </tr>\n",
       "    <tr>\n",
       "      <th>baby items</th>\n",
       "      <td>0.047728</td>\n",
       "      <td>0.062212</td>\n",
       "      <td>1.000000</td>\n",
       "      <td>0.071940</td>\n",
       "      <td>0.074922</td>\n",
       "      <td>0.070992</td>\n",
       "      <td>0.076462</td>\n",
       "      <td>0.063789</td>\n",
       "      <td>0.064575</td>\n",
       "      <td>0.048423</td>\n",
       "      <td>...</td>\n",
       "      <td>0.048610</td>\n",
       "      <td>0.058916</td>\n",
       "      <td>0.045073</td>\n",
       "      <td>0.118216</td>\n",
       "      <td>0.064678</td>\n",
       "      <td>0.058797</td>\n",
       "      <td>0.068229</td>\n",
       "      <td>0.053431</td>\n",
       "      <td>0.063001</td>\n",
       "      <td>0</td>\n",
       "    </tr>\n",
       "    <tr>\n",
       "      <th>bagels</th>\n",
       "      <td>0.064905</td>\n",
       "      <td>0.087139</td>\n",
       "      <td>0.071940</td>\n",
       "      <td>1.000000</td>\n",
       "      <td>0.077304</td>\n",
       "      <td>0.087987</td>\n",
       "      <td>0.093777</td>\n",
       "      <td>0.084959</td>\n",
       "      <td>0.092361</td>\n",
       "      <td>0.082148</td>\n",
       "      <td>...</td>\n",
       "      <td>0.066404</td>\n",
       "      <td>0.091899</td>\n",
       "      <td>0.079857</td>\n",
       "      <td>0.097317</td>\n",
       "      <td>0.091047</td>\n",
       "      <td>0.060387</td>\n",
       "      <td>0.251497</td>\n",
       "      <td>0.051933</td>\n",
       "      <td>0.087520</td>\n",
       "      <td>0</td>\n",
       "    </tr>\n",
       "    <tr>\n",
       "      <th>bananas</th>\n",
       "      <td>0.067114</td>\n",
       "      <td>0.225915</td>\n",
       "      <td>0.074922</td>\n",
       "      <td>0.077304</td>\n",
       "      <td>1.000000</td>\n",
       "      <td>0.082479</td>\n",
       "      <td>0.219283</td>\n",
       "      <td>0.093150</td>\n",
       "      <td>0.076063</td>\n",
       "      <td>0.084400</td>\n",
       "      <td>...</td>\n",
       "      <td>0.067265</td>\n",
       "      <td>0.092232</td>\n",
       "      <td>0.082774</td>\n",
       "      <td>0.102371</td>\n",
       "      <td>0.091121</td>\n",
       "      <td>0.072508</td>\n",
       "      <td>0.094638</td>\n",
       "      <td>0.065618</td>\n",
       "      <td>0.073154</td>\n",
       "      <td>1</td>\n",
       "    </tr>\n",
       "  </tbody>\n",
       "</table>\n",
       "<p>5 rows × 49 columns</p>\n",
       "</div>"
      ],
      "text/plain": [
       "               aluminum foil    apples  baby items    bagels   bananas  \\\n",
       "aluminum foil       1.000000  0.061678    0.047728  0.064905  0.067114   \n",
       "apples              0.061678  1.000000    0.062212  0.087139  0.225915   \n",
       "baby items          0.047728  0.062212    1.000000  0.071940  0.074922   \n",
       "bagels              0.064905  0.087139    0.071940  1.000000  0.077304   \n",
       "bananas             0.067114  0.225915    0.074922  0.077304  1.000000   \n",
       "\n",
       "                   beef   berries  broccoli    butter  canned vegetables  ...  \\\n",
       "aluminum foil  0.071278  0.055401  0.072599  0.071912           0.065412  ...   \n",
       "apples         0.095325  0.223348  0.087706  0.084418           0.077379  ...   \n",
       "baby items     0.070992  0.076462  0.063789  0.064575           0.048423  ...   \n",
       "bagels         0.087987  0.093777  0.084959  0.092361           0.082148  ...   \n",
       "bananas        0.082479  0.219283  0.093150  0.076063           0.084400  ...   \n",
       "\n",
       "                   soap      soda  spaghetti sauce     sugar       tea  \\\n",
       "aluminum foil  0.036808  0.071673         0.059981  0.070864  0.062613   \n",
       "apples         0.065698  0.089582         0.079165  0.102892  0.083509   \n",
       "baby items     0.048610  0.058916         0.045073  0.118216  0.064678   \n",
       "bagels         0.066404  0.091899         0.079857  0.097317  0.091047   \n",
       "bananas        0.067265  0.092232         0.082774  0.102371  0.091121   \n",
       "\n",
       "               toilet paper  tortillas   waffles    yogurt  cluster  \n",
       "aluminum foil      0.133057   0.070844  0.034712  0.048195        0  \n",
       "apples             0.070139   0.086649  0.055191  0.074820        1  \n",
       "baby items         0.058797   0.068229  0.053431  0.063001        0  \n",
       "bagels             0.060387   0.251497  0.051933  0.087520        0  \n",
       "bananas            0.072508   0.094638  0.065618  0.073154        1  \n",
       "\n",
       "[5 rows x 49 columns]"
      ]
     },
     "execution_count": 42,
     "metadata": {},
     "output_type": "execute_result"
    }
   ],
   "source": [
    "item_corr['cluster'] = model.labels_\n",
    "item_corr.head()"
   ]
  },
  {
   "cell_type": "code",
   "execution_count": 43,
   "metadata": {},
   "outputs": [],
   "source": [
    "def plot_dendrogram(model, **kwargs):\n",
    "\n",
    "    # Children of hierarchical clustering\n",
    "    children = model.children_\n",
    "\n",
    "    # Distances between each pair of children\n",
    "    # Since we don't have this information, we can use a uniform one for plotting\n",
    "    distance = np.arange(children.shape[0])\n",
    "\n",
    "    # The number of observations contained in each cluster level\n",
    "    no_of_observations = np.arange(2, children.shape[0]+2)\n",
    "\n",
    "    # Create linkage matrix and then plot the dendrogram\n",
    "    linkage_matrix = np.column_stack([children, distance, no_of_observations]).astype(float)\n",
    "\n",
    "    # Plot the corresponding dendrogram\n",
    "    dendrogram(linkage_matrix, **kwargs)"
   ]
  },
  {
   "cell_type": "code",
   "execution_count": 44,
   "metadata": {},
   "outputs": [],
   "source": [
    "model = AgglomerativeClustering(n_clusters=3)\n",
    "model = model.fit(item_corr)\n",
    "item_corr['cluster'] = model.labels_"
   ]
  },
  {
   "cell_type": "code",
   "execution_count": 50,
   "metadata": {},
   "outputs": [
    {
     "data": {
      "image/png": "[encoded data removed]",
      "text/plain": [
       "<Figure size 1080x720 with 1 Axes>"
      ]
     },
     "metadata": {
      "needs_background": "light"
     },
     "output_type": "display_data"
    }
   ],
   "source": [
    "plt.figure(figsize=(15,10))\n",
    "plt.title('Hierarchical Clustering Dendrogram (Grocery Items)', size=20)\n",
    "plot_dendrogram(model,labels=item_corr.index.values)\n",
    "plt.xticks(rotation=90, size=15)\n",
    "# plt.savefig('items.pdf',format='pdf')\n",
    "plt.show()"
   ]
  },
  {
   "cell_type": "code",
   "execution_count": null,
   "metadata": {},
   "outputs": [],
   "source": []
  },
  {
   "cell_type": "code",
   "execution_count": null,
   "metadata": {},
   "outputs": [],
   "source": []
  },
  {
   "cell_type": "code",
   "execution_count": null,
   "metadata": {},
   "outputs": [],
   "source": []
  }
 ],
 "metadata": {
  "kernelspec": {
   "display_name": "Python 3",
   "language": "python",
   "name": "python3"
  },
  "language_info": {
   "codemirror_mode": {
    "name": "ipython",
    "version": 3
   },
   "file_extension": ".py",
   "mimetype": "text/x-python",
   "name": "python",
   "nbconvert_exporter": "python",
   "pygments_lexer": "ipython3",
   "version": "3.7.6"
  }
 },
 "nbformat": 4,
 "nbformat_minor": 4
}
